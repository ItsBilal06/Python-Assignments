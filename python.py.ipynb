{
 "cells": [
  {
   "cell_type": "code",
   "execution_count": 1,
   "id": "d6282514",
   "metadata": {},
   "outputs": [
    {
     "name": "stdout",
     "output_type": "stream",
     "text": [
      "Bilal Shahid\n"
     ]
    }
   ],
   "source": [
    "#Write a python program to get python version :-\n",
    "FirstName = \"Bilal\"\n",
    "LastName = \"Shahid\"\n",
    "print(FirstName,LastName);"
   ]
  },
  {
   "cell_type": "code",
   "execution_count": 2,
   "id": "61aebe92",
   "metadata": {},
   "outputs": [
    {
     "name": "stdout",
     "output_type": "stream",
     "text": [
      "Enter Your First Name :-Bilal\n",
      "Enter Your Last Name :-Shahid\n",
      "Shahid Bilal\n"
     ]
    }
   ],
   "source": [
    "#Write a python program which accept user's First and Last Name and Write it in reverse Order :-\n",
    "fn = input(\"Enter Your First Name :-\");\n",
    "ln = input(\"Enter Your Last Name :-\");\n",
    "print(ln, fn);"
   ]
  },
  {
   "cell_type": "code",
   "execution_count": 3,
   "id": "4c7dd018",
   "metadata": {},
   "outputs": [
    {
     "name": "stdout",
     "output_type": "stream",
     "text": [
      "Twinkle Twinkle Little Star !\n",
      "       How I wonder What You Are !\n",
      "              Up Above the world so High\n",
      "              Like A Dimond in the Sky !\n",
      "Twinkle Twinkle Little Star !\n",
      "       How I wonder What You Are !\n"
     ]
    }
   ],
   "source": [
    "#Write a python program to print the string format :-\n",
    "print(\"Twinkle Twinkle Little Star !\")\n",
    "print(\"       How I wonder What You Are !\")\n",
    "print(\"              Up Above the world so High\")\n",
    "print(\"              Like A Dimond in the Sky !\")\n",
    "print(\"Twinkle Twinkle Little Star !\")\n",
    "print(\"       How I wonder What You Are !\")"
   ]
  },
  {
   "cell_type": "code",
   "execution_count": 4,
   "id": "cc7e110f",
   "metadata": {},
   "outputs": [
    {
     "name": "stdout",
     "output_type": "stream",
     "text": [
      "Current date and time : \n",
      "2022-01-01 20:29:22\n"
     ]
    }
   ],
   "source": [
    "#Write A python program to current date and time :-\n",
    "import datetime\n",
    "now = datetime.datetime.now()\n",
    "print (\"Current date and time : \")\n",
    "print (now.strftime(\"%Y-%m-%d %H:%M:%S\"))"
   ]
  },
  {
   "cell_type": "code",
   "execution_count": 5,
   "id": "bf553884",
   "metadata": {},
   "outputs": [
    {
     "name": "stdout",
     "output_type": "stream",
     "text": [
      "Enter First Number :-12\n",
      "Enter Last Number :-08\n",
      "Addition is : 20\n"
     ]
    }
   ],
   "source": [
    "#Write a program to take input of two numbers and add them :-\n",
    "a = int(input(\"Enter First Number :-\"))\n",
    "b = int(input(\"Enter Last Number :-\"))\n",
    "c = a+b\n",
    "print(\"Addition is :\",c)"
   ]
  },
  {
   "cell_type": "code",
   "execution_count": 7,
   "id": "97ce6d9e",
   "metadata": {},
   "outputs": [
    {
     "name": "stdout",
     "output_type": "stream",
     "text": [
      "Enter the radius of a circle :-12\n",
      "The Area of Circle is:- 452.448\n"
     ]
    }
   ],
   "source": [
    "#Write A program in which takes the input of radius of circle and output's result is computing the area :-\n",
    "pi= 3.142;\n",
    "r = float(input(\"Enter the radius of a circle :-\"))\n",
    "area = pi * r * r;\n",
    "print(\"The Area of Circle is:-\",area)"
   ]
  },
  {
   "cell_type": "code",
   "execution_count": null,
   "id": "5e98e22a",
   "metadata": {},
   "outputs": [],
   "source": []
  }
 ],
 "metadata": {
  "kernelspec": {
   "display_name": "Python 3 (ipykernel)",
   "language": "python",
   "name": "python3"
  },
  "language_info": {
   "codemirror_mode": {
    "name": "ipython",
    "version": 3
   },
   "file_extension": ".py",
   "mimetype": "text/x-python",
   "name": "python",
   "nbconvert_exporter": "python",
   "pygments_lexer": "ipython3",
   "version": "3.9.7"
  }
 },
 "nbformat": 4,
 "nbformat_minor": 5
}
